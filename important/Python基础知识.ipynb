{
 "cells": [
  {
   "cell_type": "markdown",
   "metadata": {
    "collapsed": true
   },
   "source": [
    "### 语言特性、优缺点、鸭子类型、 猴子补丁、 自省\n",
    "\n",
    "- 语言特性：动态类型，强类型\n",
    "\t动态与静态举例 go、c等为静态语言 是值编译期还是运行期去确定类型\n",
    "\t强弱类型举例 js为弱类型 会做类型隐式转换，1 + '1' -> '11'\n",
    "- 优缺点：\n",
    "\t优点：语言灵活，应用广泛，轮子多，生产力高\n",
    "\t缺点：性能问题、代码可维护性、Python2/3兼容问题\n",
    "- 鸭子类型 duck typing：\n",
    "\t关注点在于对象的功能而非类型 更关注接口而非类型\n",
    "\t比如 实现 __iter__ 就可以使用for进行迭代\n",
    "- 猴子补丁 monkey patch：\n",
    "\t意思是 运行时替换\n",
    "\t比如 gevent需要修改内置的socket\n",
    "- 自省：\n",
    "\t运行时判断一个对象类型的能力\n",
    "\t使用 type、 isinstance、 id、 inspect\n"
   ]
  },
  {
   "cell_type": "code",
   "execution_count": 3,
   "metadata": {
    "collapsed": false
   },
   "outputs": [],
   "source": [
    "# Python 之禅\n",
    "import this"
   ]
  },
  {
   "cell_type": "markdown",
   "metadata": {},
   "source": [
    "### Python2/3的区别 以及Python3的改进/新增\n",
    "- print 成为函数\n",
    "- print 默认编码为unicode\n",
    "- 除号变化 返回浮点数 \"//\" 为整除\n",
    "- 类型注解(type hint) 帮助IDE实现类型检查\n",
    "- 高级解包操作 a, b, *rest = range(10)\n",
    "- 限定关键字参数(Keyword only arguments)， def test(a, b, *, c): pass\n",
    "- Chained exceptions. Python3重新抛出异常不会丢失栈信息\n",
    "- 一切返回迭代器 range，zip, map, dict.values等\n",
    "- 生成的pyc文件统一放到 _pycache__ 里面\n",
    "- 一些内置库的修改。 urllib, selector等\n",
    "- 新增 yield from 链接子生成器\n",
    "- 新增内置库 asyncio, async/await 原生协程支持异步编程\n",
    "- 新增内置库 enum, mock, asyncio, ipaddress, concurrent.futures等"
   ]
  },
  {
   "cell_type": "markdown",
   "metadata": {},
   "source": [
    "### Python2/3兼容的模块\n",
    "- six 模块\n",
    "- 2to3 等代码工具转换代码\n",
    "- __future__"
   ]
  },
  {
   "cell_type": "markdown",
   "metadata": {},
   "source": [
    "### Python是引用对象，即非值传递也非引用传递\n",
    "- 对可变对象操作时会保留操作，如 a=[1]; id(a); a.append(2); id(a) 它的ID不变，说明Python是直接对在内存块上的对象进行操作\n",
    "- 可变对象和不可变对象：\n",
    "\t不可变 bool/int/float/tuple/str/frozenset\n",
    "\t可变   list/set/dict\n",
    "\t可变对象作为函数参数的副作用, 产生原因 默认参数只计算一次"
   ]
  },
  {
   "cell_type": "markdown",
   "metadata": {},
   "source": [
    "### Python `*args` `**kwargs`\n",
    "- 用来处理可变参数\n",
    "- *args 被打包成 tuple\n",
    "- **kwargs 被打包成 dict"
   ]
  },
  {
   "cell_type": "code",
   "execution_count": 4,
   "metadata": {},
   "outputs": [],
   "source": [
    "# Python 异常\n",
    "try:\n",
    "    pass    # 可能会抛出异常的代码\n",
    "except (Exception,) as e:  # 可以捕获多个异常并处理\n",
    "    pass    # 异常处理的代码\n",
    "else:\n",
    "    pass    # 异常没有发生的时候执行的代码\n",
    "finally:\n",
    "    pass    # 无论异常有没有发生都会执行的代码 一般用于关闭资源\n",
    "\n",
    "\"\"\"\n",
    "    自定义 异常 继承Exception\n",
    "\"\"\""
   ]
  },
  {
   "cell_type": "code",
   "execution_count": null,
   "metadata": {},
   "outputs": [],
   "source": []
  }
 ],
 "metadata": {
  "kernelspec": {
   "display_name": "Python 2",
   "language": "python",
   "name": "python2"
  },
  "language_info": {
   "codemirror_mode": {
    "name": "ipython",
    "version": 2
   },
   "file_extension": ".py",
   "mimetype": "text/x-python",
   "name": "python",
   "nbconvert_exporter": "python",
   "pygments_lexer": "ipython2",
   "version": "2.7.6"
  }
 },
 "nbformat": 4,
 "nbformat_minor": 0
}
